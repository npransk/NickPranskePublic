{
 "cells": [
  {
   "cell_type": "markdown",
   "metadata": {},
   "source": [
    "## MIT5032 Python 2\n",
    "Homework Python Basics"
   ]
  },
  {
   "cell_type": "markdown",
   "metadata": {},
   "source": [
    "## Nick Pranske, 113500528"
   ]
  },
  {
   "cell_type": "markdown",
   "metadata": {},
   "source": [
    "### Datatypes"
   ]
  },
  {
   "cell_type": "markdown",
   "metadata": {},
   "source": [
    "#### 1. (1 points). Convert a double to an integer (trim the decimal part)\n",
    "You should get an integer 26"
   ]
  },
  {
   "cell_type": "code",
   "execution_count": 6,
   "metadata": {
    "ExecuteTime": {
     "end_time": "2024-03-13T05:55:20.159223Z",
     "start_time": "2024-03-13T05:55:20.154329Z"
    }
   },
   "outputs": [],
   "source": [
    "d1=26.6999"
   ]
  },
  {
   "cell_type": "code",
   "execution_count": 7,
   "metadata": {
    "ExecuteTime": {
     "end_time": "2024-03-13T05:55:20.164465Z",
     "start_time": "2024-03-13T05:55:20.160226Z"
    }
   },
   "outputs": [
    {
     "name": "stdout",
     "output_type": "stream",
     "text": [
      "26\n"
     ]
    }
   ],
   "source": [
    "# Your answer here\n",
    "d1 = int(d1)\n",
    "print(d1)"
   ]
  },
  {
   "cell_type": "markdown",
   "metadata": {},
   "source": [
    "#### 2. (1 points). Convert a double to and integer (round)\n",
    "You should get an integer 27"
   ]
  },
  {
   "cell_type": "code",
   "execution_count": 8,
   "metadata": {
    "ExecuteTime": {
     "end_time": "2024-03-13T05:55:20.170441Z",
     "start_time": "2024-03-13T05:55:20.164465Z"
    }
   },
   "outputs": [],
   "source": [
    "d1=26.6999"
   ]
  },
  {
   "cell_type": "code",
   "execution_count": 9,
   "metadata": {
    "ExecuteTime": {
     "end_time": "2024-03-13T05:55:20.176190Z",
     "start_time": "2024-03-13T05:55:20.171443Z"
    }
   },
   "outputs": [
    {
     "name": "stdout",
     "output_type": "stream",
     "text": [
      "27\n"
     ]
    }
   ],
   "source": [
    "# Your answer here\n",
    "d1 = round(d1)\n",
    "print(d1)"
   ]
  },
  {
   "cell_type": "markdown",
   "metadata": {},
   "source": [
    "#### 3. (1.5 points). Interpolate a string\n",
    "Interpolate the variable values, age and weight, into a string using **f\"{}\"**\n",
    "You should get a string like this \"The age is 20 and the weight is 130.30\"\n"
   ]
  },
  {
   "cell_type": "code",
   "execution_count": 10,
   "metadata": {
    "ExecuteTime": {
     "end_time": "2024-03-13T05:55:20.180930Z",
     "start_time": "2024-03-13T05:55:20.177192Z"
    }
   },
   "outputs": [],
   "source": [
    "age=20\n",
    "weight=130.3"
   ]
  },
  {
   "cell_type": "code",
   "execution_count": 12,
   "metadata": {
    "ExecuteTime": {
     "end_time": "2024-03-13T05:55:20.186360Z",
     "start_time": "2024-03-13T05:55:20.180930Z"
    }
   },
   "outputs": [
    {
     "name": "stdout",
     "output_type": "stream",
     "text": [
      "The age is 20 and the weight is 130.3\n"
     ]
    }
   ],
   "source": [
    "# Your answer here\n",
    "str = f\"The age is {age} and the weight is {weight}\"\n",
    "print(str)"
   ]
  },
  {
   "cell_type": "markdown",
   "metadata": {},
   "source": [
    "#### 4. (2 points). List Comprehesion\n",
    "Use list comprehesion to create a dictionary list based on the age list\n",
    "You should get a new list like this\n",
    "[{'age': 23}, {'age': 45}, {'age': 12}, {'age': 26}]"
   ]
  },
  {
   "cell_type": "code",
   "execution_count": 18,
   "metadata": {
    "ExecuteTime": {
     "end_time": "2024-03-13T05:55:20.192268Z",
     "start_time": "2024-03-13T05:55:20.186360Z"
    }
   },
   "outputs": [],
   "source": [
    "ageList=[23,45,12,26]"
   ]
  },
  {
   "cell_type": "code",
   "execution_count": 19,
   "metadata": {
    "ExecuteTime": {
     "end_time": "2024-03-13T05:55:20.197966Z",
     "start_time": "2024-03-13T05:55:20.193271Z"
    }
   },
   "outputs": [
    {
     "name": "stdout",
     "output_type": "stream",
     "text": [
      "[{'age': 23}, {'age': 45}, {'age': 12}, {'age': 26}]\n"
     ]
    }
   ],
   "source": [
    "dict = [{\"age\": age} for age in ageList]\n",
    "print(dict)"
   ]
  },
  {
   "cell_type": "markdown",
   "metadata": {},
   "source": [
    "#### 5. (1.5 points). Dictionary\n",
    "Add new fields to the following dictionary, so you will get a new dictionary like this\n",
    "{'age': 23, 'name': 'aiden', 'weight': 136.6}\n",
    "\n",
    "You could not define a new dictionary stu, like\n",
    "stu={'age': 23, 'name': 'aiden', 'weight': 136.6}\n",
    "\n",
    "You can only add the new fields to the current stu dict"
   ]
  },
  {
   "cell_type": "code",
   "execution_count": 20,
   "metadata": {
    "ExecuteTime": {
     "end_time": "2024-03-13T05:55:20.202436Z",
     "start_time": "2024-03-13T05:55:20.198968Z"
    }
   },
   "outputs": [],
   "source": [
    "stu={\"age\":23,} #"
   ]
  },
  {
   "cell_type": "code",
   "execution_count": 21,
   "metadata": {
    "ExecuteTime": {
     "end_time": "2024-03-13T05:55:20.208422Z",
     "start_time": "2024-03-13T05:55:20.202436Z"
    }
   },
   "outputs": [
    {
     "name": "stdout",
     "output_type": "stream",
     "text": [
      "{'age': 23, 'name': 'aiden', 'weight': 136.6}\n"
     ]
    }
   ],
   "source": [
    "# Your answer here\n",
    "stu[\"name\"] = \"aiden\"\n",
    "stu[\"weight\"] = 136.6\n",
    "print(stu)"
   ]
  },
  {
   "cell_type": "markdown",
   "metadata": {},
   "source": [
    "#### 6. (1 points). Use * operator to create a list like this\n",
    "[2, 3, 2, 3, 2, 3, 2, 3, 2, 3]\n"
   ]
  },
  {
   "cell_type": "code",
   "execution_count": 23,
   "metadata": {
    "ExecuteTime": {
     "end_time": "2024-03-13T05:55:20.214124Z",
     "start_time": "2024-03-13T05:55:20.208422Z"
    }
   },
   "outputs": [
    {
     "name": "stdout",
     "output_type": "stream",
     "text": [
      "[2, 3, 2, 3, 2, 3, 2, 3, 2, 3]\n"
     ]
    }
   ],
   "source": [
    "# Your answer here\n",
    "list = [2,3]*5\n",
    "print(list)\n"
   ]
  },
  {
   "cell_type": "markdown",
   "metadata": {},
   "source": [
    "#### 7. (2 points). Use for loop and range to print out odd numbers from 3 to 100, but skip the numbers 13,15,35,37,91\n",
    "You will get a list of numbers like this:\n",
    "3\n",
    "5\n",
    "7\n",
    "9\n",
    "11\n",
    "17\n",
    "19\n",
    "21\n",
    "23\n",
    "25\n",
    "27\n",
    "29\n",
    "31\n",
    "33\n",
    "39\n",
    "41\n",
    "43\n",
    "45\n",
    "47\n",
    "49\n",
    "51\n",
    "53\n",
    "55\n",
    "57\n",
    "59\n",
    "61\n",
    "63\n",
    "65\n",
    "67\n",
    "69\n",
    "71\n",
    "73\n",
    "75\n",
    "77\n",
    "79\n",
    "81\n",
    "83\n",
    "85\n",
    "87\n",
    "89\n",
    "93\n",
    "95\n",
    "97\n",
    "99\n"
   ]
  },
  {
   "cell_type": "code",
   "execution_count": 25,
   "metadata": {
    "ExecuteTime": {
     "end_time": "2024-03-13T05:55:20.219907Z",
     "start_time": "2024-03-13T05:55:20.214124Z"
    }
   },
   "outputs": [
    {
     "name": "stdout",
     "output_type": "stream",
     "text": [
      "3\n",
      "5\n",
      "7\n",
      "9\n",
      "11\n",
      "17\n",
      "19\n",
      "21\n",
      "23\n",
      "25\n",
      "27\n",
      "29\n",
      "31\n",
      "33\n",
      "39\n",
      "41\n",
      "43\n",
      "45\n",
      "47\n",
      "49\n",
      "51\n",
      "53\n",
      "55\n",
      "57\n",
      "59\n",
      "61\n",
      "63\n",
      "65\n",
      "67\n",
      "69\n",
      "71\n",
      "73\n",
      "75\n",
      "77\n",
      "79\n",
      "81\n",
      "83\n",
      "85\n",
      "87\n",
      "89\n",
      "93\n",
      "95\n",
      "97\n",
      "99\n"
     ]
    }
   ],
   "source": [
    "# Your answer here\n",
    "exclusions = [13,15,35,37,91]\n",
    "for i in range(3,100,2):\n",
    "    if i not in exclusions:\n",
    "        print(i)"
   ]
  },
  {
   "cell_type": "code",
   "execution_count": 12,
   "metadata": {
    "ExecuteTime": {
     "end_time": "2024-03-13T05:55:20.222569Z",
     "start_time": "2024-03-13T05:55:20.219907Z"
    }
   },
   "outputs": [],
   "source": []
  }
 ],
 "metadata": {
  "kernelspec": {
   "display_name": "Python 3 (ipykernel)",
   "language": "python",
   "name": "python3"
  },
  "language_info": {
   "codemirror_mode": {
    "name": "ipython",
    "version": 3
   },
   "file_extension": ".py",
   "mimetype": "text/x-python",
   "name": "python",
   "nbconvert_exporter": "python",
   "pygments_lexer": "ipython3",
   "version": "3.9.12"
  }
 },
 "nbformat": 4,
 "nbformat_minor": 1
}
