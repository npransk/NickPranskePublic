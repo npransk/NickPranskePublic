{
 "cells": [
  {
   "cell_type": "markdown",
   "metadata": {},
   "source": [
    "# Homework Regular Expression (a powerful tool for text analysis)\n"
   ]
  },
  {
   "cell_type": "markdown",
   "metadata": {},
   "source": [
    "## **Put your name and student ID here**\n",
    "\n",
    "## Nick Pranske, 113500528"
   ]
  },
  {
   "cell_type": "markdown",
   "metadata": {},
   "source": [
    "## Regular Expression (a powerful tool for text analysis)\n",
    "**Use Python Regular Expression to solve questions 1-3**"
   ]
  },
  {
   "cell_type": "code",
   "execution_count": 1,
   "metadata": {
    "ExecuteTime": {
     "end_time": "2024-03-13T05:55:17.685404Z",
     "start_time": "2024-03-13T05:55:17.679389Z"
    }
   },
   "outputs": [],
   "source": [
    "str='''\n",
    "The University of Oklahoma (OU) is a public research university in Norman, Oklahoma. Founded in 1890, it had existed in Oklahoma Territory near Indian Territory for 17 years before the two territories became the state of Oklahoma. In Fall 2022, the university had 28,840 students enrolled,[7] most at its main campus in Norman. Employing nearly 3,000 faculty members,[3] the university offers 152 baccalaureate programs, 160 master's programs, 75 doctorate programs, and 20 majors at the first professional level.[8]\n",
    "\n",
    "The university is classified among \"R1: Doctoral Universities – Very high research activity\".[9] Its Norman campus has two prominent museums, the Fred Jones Jr. Museum of Art, specializing in French Impressionism and Native American artwork, and the Sam Noble Oklahoma Museum of Natural History, specializing in the natural history of Oklahoma.\n",
    "\n",
    "The University of Oklahoma has won 34 NCAA national championships, ranking the Sooners 13th all-time in NCAA team titles. The women's softball team has won the national championship six times: in 2000, 2013, and consecutively in 2016 and 2017 and in 2021 and 2022. The gymnastics teams have won a combined 11 national championships since 2002, with the men's team winning eight in the last 15 years, including three consecutive titles from 2015 to 2017.[10]\n",
    "\n",
    "With the support of Governor George Washington Steele, on December 18, 1890, the Oklahoma Territorial legislature established three universities: the state university in Norman, the agricultural and mechanical college in Stillwater (later renamed Oklahoma State University) and a normal school in Edmond (later renamed University of Central Oklahoma).[11] Oklahoma's admission into the union in 1907 led to the renaming of the Norman Territorial University as the University of Oklahoma. Norman residents donated 407 acres (1.6 km2) of land for the university 0.5 miles (0.8 km) south of the Norman railroad depot. The university's first president ordered the planting of trees before the construction of the first campus building because he \"could not visualize a treeless university seat.\"[12] Landscaping remains important to the university.[13]\n",
    "\n",
    "The university's first president, David Ross Boyd, arrived in Norman in August 1892, and the first students enrolled that year. The university established a School of Pharmacy in 1893 because of the territory's high demand for pharmacists. Three years later, the university awarded its first degree to a pharmaceutical chemist.[14] The \"Rock Building\" in downtown Norman held the initial classes until the university's first building opened on September 6, 1893.[15]\n",
    "\n",
    "On January 6, 1903, the university's only building burned down and destroyed many records of the early university. Construction began immediately on a new building, as several other towns hoped to convince the university to move. President Boyd and the faculty were not dismayed by the loss. Mathematics professor Frederick Elder said, \"What do you need to keep classes going? Two yards of blackboard and a box of chalk.\"[16] As a response to the fire, English professor Vernon Louis Parrington created a plan for the development of the campus. Although much of the plan was never implemented, Parrington's suggestion for the campus core formed the basis for the North Oval. The North and South Ovals are now distinctive features of the campus.\n",
    "\n",
    "The campus has a distinctive architecture, with buildings designed in a unique \"Cherokee Gothic\" style. The style has many features of the Gothic era but has also mixed the designs of local Native American tribes from Oklahoma. This term was coined by the renowned American architect Frank Lloyd Wright when he visited the campus.[17] The university has built over a dozen buildings in the Cherokee Gothic style.\n",
    "'''"
   ]
  },
  {
   "cell_type": "markdown",
   "metadata": {},
   "source": [
    "## 1. (4 points) In str, find the patterns [numbers], such [1], [2], [17], etc. Print out the number of matched patterns, the patterns, and the start location indexes.\n",
    "'''\n",
    "Total number: 12\n",
    "Matched pattern: [7]  start index: 290\n",
    "Matched pattern: [3]  start index: 368\n",
    "Matched pattern: [8]  start index: 514\n",
    "Matched pattern: [9]  start index: 612\n",
    "Matched pattern: [10]  start index: 1318\n",
    "Matched pattern: [11]  start index: 1675\n",
    "Matched pattern: [12]  start index: 2115\n",
    "Matched pattern: [13]  start index: 2168\n",
    "Matched pattern: [14]  start index: 2501\n",
    "Matched pattern: [15]  start index: 2636\n",
    "Matched pattern: [16]  start index: 3063\n",
    "Matched pattern: [17]  start index: 3718\n",
    "'''"
   ]
  },
  {
   "cell_type": "code",
   "execution_count": 2,
   "metadata": {
    "ExecuteTime": {
     "end_time": "2024-03-13T05:55:17.688537Z",
     "start_time": "2024-03-13T05:55:17.686405Z"
    }
   },
   "outputs": [],
   "source": [
    "import re"
   ]
  },
  {
   "cell_type": "code",
   "execution_count": 3,
   "metadata": {
    "ExecuteTime": {
     "end_time": "2024-03-13T05:55:17.690936Z",
     "start_time": "2024-03-13T05:55:17.689541Z"
    }
   },
   "outputs": [
    {
     "name": "stdout",
     "output_type": "stream",
     "text": [
      "Total number: 12 Matched pattern: [7] start index: 290 Matched pattern: [3] start index: 368 Matched pattern: [8] start index: 514 Matched pattern: [9] start index: 612 Matched pattern: [10] start index: 1318 Matched pattern: [11] start index: 1675 Matched pattern: [12] start index: 2115 Matched pattern: [13] start index: 2168 Matched pattern: [14] start index: 2501 Matched pattern: [15] start index: 2636 Matched pattern: [16] start index: 3063 Matched pattern: [17] start index: 3718 \n"
     ]
    }
   ],
   "source": [
    "pattern=re.compile(r'\\[\\d{1,}\\]')\n",
    "numbers=pattern.findall(str)\n",
    "total=len(numbers)\n",
    "outputList=[f'Total number: {total} ']\n",
    "outputStr=''\n",
    "for n in numbers:\n",
    "    output=f'Matched pattern: {n} start index: {str.index(n)} '\n",
    "    outputList.append(output)\n",
    "outputStr=outputStr.join(outputList)\n",
    "print(outputStr)"
   ]
  },
  {
   "cell_type": "markdown",
   "metadata": {},
   "source": [
    "## 2. (3 points) In str, count the total number of these sybmols: **. , \" [**. Print out the number of matched patterns, the patterns, and the start location indexes.\n",
    "'''\n",
    "Total number: 90\n",
    "Matched pattern: ,  start index: 74\n",
    "Matched pattern: .  start index: 84\n",
    "Matched pattern: ,  start index: 101\n",
    "Matched pattern: .  start index: 230\n",
    "Matched pattern: ,  start index: 244\n",
    "Matched pattern: ,  start index: 267\n",
    "Matched pattern: ,  start index: 289\n",
    "Matched pattern: [  start index: 290\n",
    "Matched pattern: .  start index: 327\n",
    "Matched pattern: ,  start index: 347\n",
    "Matched pattern: ,  start index: 367\n",
    "Matched pattern: [  start index: 368\n",
    "Matched pattern: ,  start index: 420\n",
    "Matched pattern: ,  start index: 443\n",
    "Matched pattern: ,  start index: 466\n",
    "Matched pattern: .  start index: 513\n",
    "Matched pattern: [  start index: 514\n",
    "Matched pattern: \"  start index: 554\n",
    "Matched pattern: \"  start index: 610\n",
    "Matched pattern: .  start index: 611\n",
    "Matched pattern: [  start index: 612\n",
    "Matched pattern: ,  start index: 659\n",
    "Matched pattern: .  start index: 678\n",
    "Matched pattern: ,  start index: 693\n",
    "Matched pattern: ,  start index: 759\n",
    "Matched pattern: ,  start index: 813\n",
    "Matched pattern: .  start index: 862\n",
    "Matched pattern: ,  start index: 930\n",
    "Matched pattern: .  start index: 985\n",
    "Matched pattern: ,  start index: 1065\n",
    "Matched pattern: ,  start index: 1071\n",
    "Matched pattern: .  start index: 1128\n",
    "Matched pattern: ,  start index: 1207\n",
    "Matched pattern: ,  start index: 1263\n",
    "Matched pattern: .  start index: 1317\n",
    "Matched pattern: [  start index: 1318\n",
    "Matched pattern: ,  start index: 1377\n",
    "Matched pattern: ,  start index: 1393\n",
    "Matched pattern: ,  start index: 1399\n",
    "Matched pattern: ,  start index: 1500\n",
    "Matched pattern: .  start index: 1674\n",
    "Matched pattern: [  start index: 1675\n",
    "Matched pattern: .  start index: 1810\n",
    "Matched pattern: .  start index: 1849\n",
    "Matched pattern: .  start index: 1885\n",
    "Matched pattern: .  start index: 1896\n",
    "Matched pattern: .  start index: 1937\n",
    "Matched pattern: \"  start index: 2066\n",
    "Matched pattern: .  start index: 2113\n",
    "Matched pattern: \"  start index: 2114\n",
    "Matched pattern: [  start index: 2115\n",
    "Matched pattern: .  start index: 2167\n",
    "Matched pattern: [  start index: 2168\n",
    "Matched pattern: ,  start index: 2206\n",
    "Matched pattern: ,  start index: 2223\n",
    "Matched pattern: ,  start index: 2257\n",
    "Matched pattern: .  start index: 2300\n",
    "Matched pattern: .  start index: 2412\n",
    "Matched pattern: ,  start index: 2431\n",
    "Matched pattern: .  start index: 2500\n",
    "Matched pattern: [  start index: 2501\n",
    "Matched pattern: \"  start index: 2510\n",
    "Matched pattern: \"  start index: 2524\n",
    "Matched pattern: ,  start index: 2629\n",
    "Matched pattern: .  start index: 2635\n",
    "Matched pattern: [  start index: 2636\n",
    "Matched pattern: ,  start index: 2654\n",
    "Matched pattern: ,  start index: 2660\n",
    "Matched pattern: .  start index: 2755\n",
    "Matched pattern: ,  start index: 2805\n",
    "Matched pattern: .  start index: 2870\n",
    "Matched pattern: .  start index: 2932\n",
    "Matched pattern: ,  start index: 2976\n",
    "Matched pattern: \"  start index: 2978\n",
    "Matched pattern: .  start index: 3061\n",
    "Matched pattern: \"  start index: 3062\n",
    "Matched pattern: [  start index: 3063\n",
    "Matched pattern: ,  start index: 3093\n",
    "Matched pattern: .  start index: 3185\n",
    "Matched pattern: ,  start index: 3234\n",
    "Matched pattern: .  start index: 3315\n",
    "Matched pattern: .  start index: 3385\n",
    "Matched pattern: ,  start index: 3429\n",
    "Matched pattern: \"  start index: 3467\n",
    "Matched pattern: \"  start index: 3483\n",
    "Matched pattern: .  start index: 3490\n",
    "Matched pattern: .  start index: 3614\n",
    "Matched pattern: .  start index: 3717\n",
    "Matched pattern: [  start index: 3718\n",
    "Matched pattern: .  start index: 3799\n",
    "'''"
   ]
  },
  {
   "cell_type": "code",
   "execution_count": 4,
   "metadata": {
    "ExecuteTime": {
     "end_time": "2024-03-13T05:55:17.700776Z",
     "start_time": "2024-03-13T05:55:17.698501Z"
    }
   },
   "outputs": [
    {
     "name": "stdout",
     "output_type": "stream",
     "text": [
      "Total number: 90 Matched pattern: , start index: 74 Matched pattern: . start index: 84 Matched pattern: , start index: 101 Matched pattern: . start index: 230 Matched pattern: , start index: 244 Matched pattern: , start index: 267 Matched pattern: , start index: 289 Matched pattern: [ start index: 290 Matched pattern: . start index: 327 Matched pattern: , start index: 347 Matched pattern: , start index: 367 Matched pattern: [ start index: 368 Matched pattern: , start index: 420 Matched pattern: , start index: 443 Matched pattern: , start index: 466 Matched pattern: . start index: 513 Matched pattern: [ start index: 514 Matched pattern: \" start index: 554 Matched pattern: \" start index: 610 Matched pattern: . start index: 611 Matched pattern: [ start index: 612 Matched pattern: , start index: 659 Matched pattern: . start index: 678 Matched pattern: , start index: 693 Matched pattern: , start index: 759 Matched pattern: , start index: 813 Matched pattern: . start index: 862 Matched pattern: , start index: 930 Matched pattern: . start index: 985 Matched pattern: , start index: 1065 Matched pattern: , start index: 1071 Matched pattern: . start index: 1128 Matched pattern: , start index: 1207 Matched pattern: , start index: 1263 Matched pattern: . start index: 1317 Matched pattern: [ start index: 1318 Matched pattern: , start index: 1377 Matched pattern: , start index: 1393 Matched pattern: , start index: 1399 Matched pattern: , start index: 1500 Matched pattern: . start index: 1674 Matched pattern: [ start index: 1675 Matched pattern: . start index: 1810 Matched pattern: . start index: 1849 Matched pattern: . start index: 1885 Matched pattern: . start index: 1896 Matched pattern: . start index: 1937 Matched pattern: \" start index: 2066 Matched pattern: . start index: 2113 Matched pattern: \" start index: 2114 Matched pattern: [ start index: 2115 Matched pattern: . start index: 2167 Matched pattern: [ start index: 2168 Matched pattern: , start index: 2206 Matched pattern: , start index: 2223 Matched pattern: , start index: 2257 Matched pattern: . start index: 2300 Matched pattern: . start index: 2412 Matched pattern: , start index: 2431 Matched pattern: . start index: 2500 Matched pattern: [ start index: 2501 Matched pattern: \" start index: 2510 Matched pattern: \" start index: 2524 Matched pattern: , start index: 2629 Matched pattern: . start index: 2635 Matched pattern: [ start index: 2636 Matched pattern: , start index: 2654 Matched pattern: , start index: 2660 Matched pattern: . start index: 2755 Matched pattern: , start index: 2805 Matched pattern: . start index: 2870 Matched pattern: . start index: 2932 Matched pattern: , start index: 2976 Matched pattern: \" start index: 2978 Matched pattern: . start index: 3061 Matched pattern: \" start index: 3062 Matched pattern: [ start index: 3063 Matched pattern: , start index: 3093 Matched pattern: . start index: 3185 Matched pattern: , start index: 3234 Matched pattern: . start index: 3315 Matched pattern: . start index: 3385 Matched pattern: , start index: 3429 Matched pattern: \" start index: 3467 Matched pattern: \" start index: 3483 Matched pattern: . start index: 3490 Matched pattern: . start index: 3614 Matched pattern: . start index: 3717 Matched pattern: [ start index: 3718 Matched pattern: . start index: 3799 \n"
     ]
    }
   ],
   "source": [
    "# for this one I used finditer so it can find each individual index because symbols occur more than one\n",
    "symbols=re.finditer(r'[\\.,\\\"\\[]',str) # this returns an iterable object\n",
    "# the rest of the code pretty similar\n",
    "total=0\n",
    "outputList=[]\n",
    "outputStr=''\n",
    "for s in symbols:\n",
    "    output=f'Matched pattern: {s.group()} start index: {s.start()} ' # these are re methods\n",
    "    outputList.append(output)\n",
    "    total+=1\n",
    "outputList.insert(0,f'Total number: {total} ')\n",
    "outputStr=outputStr.join(outputList)\n",
    "print(outputStr)"
   ]
  },
  {
   "cell_type": "markdown",
   "metadata": {},
   "source": [
    "## 3. (3 points) In str, count the total amount of **the/has/with** (both lower and upper cases). Print out the number of matched patterns, the patterns, and the start location indexes.\n",
    "**Hints: pattern=re.compile(r'the',re.IGNORECASE) will get all lower and upper case the's (the, The, tHe, thE,THe,THE,ThE,...)**\n",
    "'''\n",
    "Total number: 74\n",
    "Matched pattern: The  start index: 1\n",
    "Matched pattern: the  start index: 182\n",
    "Matched pattern: the  start index: 209\n",
    "Matched pattern: the  start index: 246\n",
    "Matched pattern: the  start index: 372\n",
    "Matched pattern: the  start index: 485\n",
    "Matched pattern: The  start index: 519\n",
    "Matched pattern: has  start index: 634\n",
    "Matched pattern: the  start index: 661\n",
    "Matched pattern: the  start index: 765\n",
    "Matched pattern: the  start index: 831\n",
    "Matched pattern: The  start index: 865\n",
    "Matched pattern: has  start index: 892\n",
    "Matched pattern: the  start index: 940\n",
    "Matched pattern: The  start index: 987\n",
    "Matched pattern: has  start index: 1013\n",
    "Matched pattern: the  start index: 1021\n",
    "Matched pattern: The  start index: 1130\n",
    "Matched pattern: with  start index: 1209\n",
    "Matched pattern: the  start index: 1214\n",
    "Matched pattern: the  start index: 1246\n",
    "Matched pattern: With  start index: 1324\n",
    "Matched pattern: the  start index: 1329\n",
    "Matched pattern: the  start index: 1401\n",
    "Matched pattern: the  start index: 1470\n",
    "Matched pattern: the  start index: 1502\n",
    "Matched pattern: the  start index: 1706\n",
    "Matched pattern: the  start index: 1731\n",
    "Matched pattern: the  start index: 1747\n",
    "Matched pattern: the  start index: 1784\n",
    "Matched pattern: the  start index: 1869\n",
    "Matched pattern: the  start index: 1912\n",
    "Matched pattern: The  start index: 1939\n",
    "Matched pattern: the  start index: 1980\n",
    "Matched pattern: the  start index: 2009\n",
    "Matched pattern: the  start index: 2029\n",
    "Matched pattern: the  start index: 2153\n",
    "Matched pattern: The  start index: 2174\n",
    "Matched pattern: the  start index: 2263\n",
    "Matched pattern: The  start index: 2302\n",
    "Matched pattern: the  start index: 2369\n",
    "Matched pattern: the  start index: 2433\n",
    "Matched pattern: The  start index: 2506\n",
    "Matched pattern: the  start index: 2550\n",
    "Matched pattern: the  start index: 2576\n",
    "Matched pattern: the  start index: 2662\n",
    "Matched pattern: the  start index: 2735\n",
    "Matched pattern: the  start index: 2819\n",
    "Matched pattern: the  start index: 2848\n",
    "Matched pattern: the  start index: 2891\n",
    "Matched pattern: the  start index: 2924\n",
    "Matched pattern: the  start index: 2936\n",
    "Matched pattern: the  start index: 3085\n",
    "Matched pattern: the  start index: 3156\n",
    "Matched pattern: the  start index: 3175\n",
    "Matched pattern: the  start index: 3204\n",
    "Matched pattern: the  start index: 3264\n",
    "Matched pattern: the  start index: 3287\n",
    "Matched pattern: the  start index: 3301\n",
    "Matched pattern: The  start index: 3317\n",
    "Matched pattern: the  start index: 3375\n",
    "Matched pattern: The  start index: 3388\n",
    "Matched pattern: has  start index: 3399\n",
    "Matched pattern: with  start index: 3431\n",
    "Matched pattern: The  start index: 3492\n",
    "Matched pattern: has  start index: 3502\n",
    "Matched pattern: the  start index: 3523\n",
    "Matched pattern: has  start index: 3542\n",
    "Matched pattern: the  start index: 3557\n",
    "Matched pattern: the  start index: 3640\n",
    "Matched pattern: the  start index: 3707\n",
    "Matched pattern: The  start index: 3723\n",
    "Matched pattern: has  start index: 3738\n",
    "Matched pattern: the  start index: 3774\n",
    "'''"
   ]
  },
  {
   "cell_type": "code",
   "execution_count": 5,
   "metadata": {
    "ExecuteTime": {
     "end_time": "2024-03-13T05:55:17.710549Z",
     "start_time": "2024-03-13T05:55:17.708228Z"
    }
   },
   "outputs": [
    {
     "name": "stdout",
     "output_type": "stream",
     "text": [
      "Total number: 74 Matched pattern: The start index: 1 Matched pattern: the start index: 182 Matched pattern: the start index: 209 Matched pattern: the start index: 246 Matched pattern: the start index: 372 Matched pattern: the start index: 485 Matched pattern: The start index: 519 Matched pattern: has start index: 634 Matched pattern: the start index: 661 Matched pattern: the start index: 765 Matched pattern: the start index: 831 Matched pattern: The start index: 865 Matched pattern: has start index: 892 Matched pattern: the start index: 940 Matched pattern: The start index: 987 Matched pattern: has start index: 1013 Matched pattern: the start index: 1021 Matched pattern: The start index: 1130 Matched pattern: with start index: 1209 Matched pattern: the start index: 1214 Matched pattern: the start index: 1246 Matched pattern: With start index: 1324 Matched pattern: the start index: 1329 Matched pattern: the start index: 1401 Matched pattern: the start index: 1470 Matched pattern: the start index: 1502 Matched pattern: the start index: 1706 Matched pattern: the start index: 1731 Matched pattern: the start index: 1747 Matched pattern: the start index: 1784 Matched pattern: the start index: 1869 Matched pattern: the start index: 1912 Matched pattern: The start index: 1939 Matched pattern: the start index: 1980 Matched pattern: the start index: 2009 Matched pattern: the start index: 2029 Matched pattern: the start index: 2153 Matched pattern: The start index: 2174 Matched pattern: the start index: 2263 Matched pattern: The start index: 2302 Matched pattern: the start index: 2369 Matched pattern: the start index: 2433 Matched pattern: The start index: 2506 Matched pattern: the start index: 2550 Matched pattern: the start index: 2576 Matched pattern: the start index: 2662 Matched pattern: the start index: 2735 Matched pattern: the start index: 2819 Matched pattern: the start index: 2848 Matched pattern: the start index: 2891 Matched pattern: the start index: 2924 Matched pattern: the start index: 2936 Matched pattern: the start index: 3085 Matched pattern: the start index: 3156 Matched pattern: the start index: 3175 Matched pattern: the start index: 3204 Matched pattern: the start index: 3264 Matched pattern: the start index: 3287 Matched pattern: the start index: 3301 Matched pattern: The start index: 3317 Matched pattern: the start index: 3375 Matched pattern: The start index: 3388 Matched pattern: has start index: 3399 Matched pattern: with start index: 3431 Matched pattern: The start index: 3492 Matched pattern: has start index: 3502 Matched pattern: the start index: 3523 Matched pattern: has start index: 3542 Matched pattern: the start index: 3557 Matched pattern: the start index: 3640 Matched pattern: the start index: 3707 Matched pattern: The start index: 3723 Matched pattern: has start index: 3738 Matched pattern: the start index: 3774 \n"
     ]
    }
   ],
   "source": [
    "words=re.finditer(r'the|has|with',str,re.IGNORECASE)\n",
    "total=0\n",
    "outputList=[]\n",
    "outputStr=''\n",
    "for w in words:\n",
    "    output=f'Matched pattern: {w.group()} start index: {w.start()} ' # these are re methods\n",
    "    outputList.append(output)\n",
    "    total+=1\n",
    "outputList.insert(0,f'Total number: {total} ')\n",
    "outputStr=outputStr.join(outputList)\n",
    "print(outputStr)"
   ]
  }
 ],
 "metadata": {
  "kernelspec": {
   "display_name": "Python 3 (ipykernel)",
   "language": "python",
   "name": "python3"
  },
  "language_info": {
   "codemirror_mode": {
    "name": "ipython",
    "version": 3
   },
   "file_extension": ".py",
   "mimetype": "text/x-python",
   "name": "python",
   "nbconvert_exporter": "python",
   "pygments_lexer": "ipython3",
   "version": "3.9.12"
  }
 },
 "nbformat": 4,
 "nbformat_minor": 1
}
