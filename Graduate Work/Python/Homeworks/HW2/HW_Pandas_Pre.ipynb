{
 "cells": [
  {
   "cell_type": "markdown",
   "metadata": {},
   "source": [
    "# Homework Pandas"
   ]
  },
  {
   "cell_type": "markdown",
   "metadata": {},
   "source": [
    "### Add your name and student id here\n",
    "### Nick Pranske, 113500528"
   ]
  },
  {
   "cell_type": "markdown",
   "metadata": {},
   "source": [
    "#### 1. (0.5 points) Import Pandas package and load the data from EmissionsData.csv as a dataframe: em_df."
   ]
  },
  {
   "cell_type": "code",
   "execution_count": 1,
   "metadata": {
    "ExecuteTime": {
     "end_time": "2024-03-26T21:26:44.468030Z",
     "start_time": "2024-03-26T21:26:44.465994Z"
    }
   },
   "outputs": [],
   "source": [
    "import pandas as pd\n",
    "em_df=pd.read_csv('EmissionsData.csv')"
   ]
  },
  {
   "cell_type": "markdown",
   "metadata": {},
   "source": [
    "#### 2. (1 points) Sort the dataframe using sort_values() function by column \"Emission\" in the Descending order. Show the top 5 records.\n",
    "\n",
    "<img style=\"600px;\" src=\"https://juxinglong.github.io/static/img/ML/hw_pd_2.png\">"
   ]
  },
  {
   "cell_type": "code",
   "execution_count": 2,
   "metadata": {
    "ExecuteTime": {
     "end_time": "2024-03-26T21:26:44.472667Z",
     "start_time": "2024-03-26T21:26:44.470648Z"
    }
   },
   "outputs": [
    {
     "data": {
      "text/html": [
       "<div>\n",
       "<style scoped>\n",
       "    .dataframe tbody tr th:only-of-type {\n",
       "        vertical-align: middle;\n",
       "    }\n",
       "\n",
       "    .dataframe tbody tr th {\n",
       "        vertical-align: top;\n",
       "    }\n",
       "\n",
       "    .dataframe thead th {\n",
       "        text-align: right;\n",
       "    }\n",
       "</style>\n",
       "<table border=\"1\" class=\"dataframe\">\n",
       "  <thead>\n",
       "    <tr style=\"text-align: right;\">\n",
       "      <th></th>\n",
       "      <th>Year</th>\n",
       "      <th>Country</th>\n",
       "      <th>Continent</th>\n",
       "      <th>Emission</th>\n",
       "    </tr>\n",
       "  </thead>\n",
       "  <tbody>\n",
       "    <tr>\n",
       "      <th>592</th>\n",
       "      <td>2008</td>\n",
       "      <td>Qatar</td>\n",
       "      <td>Asia</td>\n",
       "      <td>48.601620</td>\n",
       "    </tr>\n",
       "    <tr>\n",
       "      <th>593</th>\n",
       "      <td>2009</td>\n",
       "      <td>Qatar</td>\n",
       "      <td>Asia</td>\n",
       "      <td>44.836401</td>\n",
       "    </tr>\n",
       "    <tr>\n",
       "      <th>595</th>\n",
       "      <td>2011</td>\n",
       "      <td>Qatar</td>\n",
       "      <td>Asia</td>\n",
       "      <td>44.018926</td>\n",
       "    </tr>\n",
       "    <tr>\n",
       "      <th>594</th>\n",
       "      <td>2010</td>\n",
       "      <td>Qatar</td>\n",
       "      <td>Asia</td>\n",
       "      <td>42.639076</td>\n",
       "    </tr>\n",
       "    <tr>\n",
       "      <th>710</th>\n",
       "      <td>2010</td>\n",
       "      <td>Trinidad And Tobago</td>\n",
       "      <td>North America</td>\n",
       "      <td>38.337841</td>\n",
       "    </tr>\n",
       "  </tbody>\n",
       "</table>\n",
       "</div>"
      ],
      "text/plain": [
       "     Year              Country      Continent   Emission\n",
       "592  2008                Qatar           Asia  48.601620\n",
       "593  2009                Qatar           Asia  44.836401\n",
       "595  2011                Qatar           Asia  44.018926\n",
       "594  2010                Qatar           Asia  42.639076\n",
       "710  2010  Trinidad And Tobago  North America  38.337841"
      ]
     },
     "execution_count": 2,
     "metadata": {},
     "output_type": "execute_result"
    }
   ],
   "source": [
    "em_df.sort_values([\"Emission\"],ascending=[False]).head()"
   ]
  },
  {
   "cell_type": "markdown",
   "metadata": {},
   "source": [
    "#### 3.\n",
    "#### 3.1 (1 points) Use groupby() function to group the em_df by \"Year\".\n",
    "#### 3.2 (2 points) Get the group \"2011\" using get_group() function and sort the 2011 group dataframe by \"Emission\" in ascending order. Show the first 5 row.\n",
    "#### 3.2 (0.5 points) Use mean() function to get average emission of all countries in year 2011.\n",
    "\n",
    "<img style=\"600px;\" src=\"https://juxinglong.github.io/static/img/ML/hw_pd_3.png\">\n",
    "\n",
    "Average: 4.904900274527919"
   ]
  },
  {
   "cell_type": "code",
   "execution_count": 3,
   "metadata": {
    "ExecuteTime": {
     "end_time": "2024-03-26T21:26:44.477511Z",
     "start_time": "2024-03-26T21:26:44.475878Z"
    }
   },
   "outputs": [],
   "source": [
    "# 3.1\n",
    "em_df_grouped=em_df.groupby([\"Year\"])"
   ]
  },
  {
   "cell_type": "code",
   "execution_count": 4,
   "metadata": {
    "ExecuteTime": {
     "end_time": "2024-03-26T21:26:44.479610Z",
     "start_time": "2024-03-26T21:26:44.477511Z"
    }
   },
   "outputs": [
    {
     "data": {
      "text/html": [
       "<div>\n",
       "<style scoped>\n",
       "    .dataframe tbody tr th:only-of-type {\n",
       "        vertical-align: middle;\n",
       "    }\n",
       "\n",
       "    .dataframe tbody tr th {\n",
       "        vertical-align: top;\n",
       "    }\n",
       "\n",
       "    .dataframe thead th {\n",
       "        text-align: right;\n",
       "    }\n",
       "</style>\n",
       "<table border=\"1\" class=\"dataframe\">\n",
       "  <thead>\n",
       "    <tr style=\"text-align: right;\">\n",
       "      <th></th>\n",
       "      <th>Year</th>\n",
       "      <th>Country</th>\n",
       "      <th>Continent</th>\n",
       "      <th>Emission</th>\n",
       "    </tr>\n",
       "  </thead>\n",
       "  <tbody>\n",
       "    <tr>\n",
       "      <th>51</th>\n",
       "      <td>2011</td>\n",
       "      <td>Burundi</td>\n",
       "      <td>Africa</td>\n",
       "      <td>0.021350</td>\n",
       "    </tr>\n",
       "    <tr>\n",
       "      <th>683</th>\n",
       "      <td>2011</td>\n",
       "      <td>Chad</td>\n",
       "      <td>Africa</td>\n",
       "      <td>0.043830</td>\n",
       "    </tr>\n",
       "    <tr>\n",
       "      <th>779</th>\n",
       "      <td>2011</td>\n",
       "      <td>Dem Rep Of Congo</td>\n",
       "      <td>Africa</td>\n",
       "      <td>0.050303</td>\n",
       "    </tr>\n",
       "    <tr>\n",
       "      <th>639</th>\n",
       "      <td>2011</td>\n",
       "      <td>Somalia</td>\n",
       "      <td>Africa</td>\n",
       "      <td>0.058707</td>\n",
       "    </tr>\n",
       "    <tr>\n",
       "      <th>607</th>\n",
       "      <td>2011</td>\n",
       "      <td>Rwanda</td>\n",
       "      <td>Africa</td>\n",
       "      <td>0.062874</td>\n",
       "    </tr>\n",
       "  </tbody>\n",
       "</table>\n",
       "</div>"
      ],
      "text/plain": [
       "     Year           Country Continent  Emission\n",
       "51   2011           Burundi    Africa  0.021350\n",
       "683  2011              Chad    Africa  0.043830\n",
       "779  2011  Dem Rep Of Congo    Africa  0.050303\n",
       "639  2011           Somalia    Africa  0.058707\n",
       "607  2011            Rwanda    Africa  0.062874"
      ]
     },
     "execution_count": 4,
     "metadata": {},
     "output_type": "execute_result"
    }
   ],
   "source": [
    "# 3.2\n",
    "em_df_grouped.get_group(2011).sort_values(['Emission'],ascending=[True]).head()"
   ]
  },
  {
   "cell_type": "code",
   "execution_count": 5,
   "metadata": {
    "ExecuteTime": {
     "end_time": "2024-03-26T21:26:44.481758Z",
     "start_time": "2024-03-26T21:26:44.479610Z"
    }
   },
   "outputs": [
    {
     "data": {
      "text/plain": [
       "4.904900274527923"
      ]
     },
     "execution_count": 5,
     "metadata": {},
     "output_type": "execute_result"
    }
   ],
   "source": [
    "# 3.3\n",
    "em_df_grouped.get_group(2011)[\"Emission\"].mean()"
   ]
  },
  {
   "cell_type": "markdown",
   "metadata": {},
   "source": [
    "#### 4.\n",
    "#### 4.1 (2.5 points) Find rows meeting the conditions: (in Year 2010 and in Continent Europe and Emission>2). Sort the result dataframe by \"Emission\" in descending order. Show the first 5 row.\n",
    "#### 4.2 (0.5 points) Calculate the average emission of the above result dataframe.\n",
    "\n",
    "<img style=\"600px;\" src=\"https://juxinglong.github.io/static/img/ML/hw_pd_4.png\">\n",
    "\n",
    "Average: 7.4887038956"
   ]
  },
  {
   "cell_type": "code",
   "execution_count": 6,
   "metadata": {
    "ExecuteTime": {
     "end_time": "2024-03-26T21:26:44.483958Z",
     "start_time": "2024-03-26T21:26:44.481758Z"
    }
   },
   "outputs": [
    {
     "data": {
      "text/html": [
       "<div>\n",
       "<style scoped>\n",
       "    .dataframe tbody tr th:only-of-type {\n",
       "        vertical-align: middle;\n",
       "    }\n",
       "\n",
       "    .dataframe tbody tr th {\n",
       "        vertical-align: top;\n",
       "    }\n",
       "\n",
       "    .dataframe thead th {\n",
       "        text-align: right;\n",
       "    }\n",
       "</style>\n",
       "<table border=\"1\" class=\"dataframe\">\n",
       "  <thead>\n",
       "    <tr style=\"text-align: right;\">\n",
       "      <th></th>\n",
       "      <th>Year</th>\n",
       "      <th>Country</th>\n",
       "      <th>Continent</th>\n",
       "      <th>Emission</th>\n",
       "    </tr>\n",
       "  </thead>\n",
       "  <tbody>\n",
       "    <tr>\n",
       "      <th>434</th>\n",
       "      <td>2010</td>\n",
       "      <td>Luxembourg</td>\n",
       "      <td>Europe</td>\n",
       "      <td>21.635136</td>\n",
       "    </tr>\n",
       "    <tr>\n",
       "      <th>226</th>\n",
       "      <td>2010</td>\n",
       "      <td>Estonia</td>\n",
       "      <td>Europe</td>\n",
       "      <td>13.773197</td>\n",
       "    </tr>\n",
       "    <tr>\n",
       "      <th>246</th>\n",
       "      <td>2010</td>\n",
       "      <td>Faroe Islands</td>\n",
       "      <td>Europe</td>\n",
       "      <td>12.986678</td>\n",
       "    </tr>\n",
       "    <tr>\n",
       "      <th>534</th>\n",
       "      <td>2010</td>\n",
       "      <td>Norway</td>\n",
       "      <td>Europe</td>\n",
       "      <td>11.616193</td>\n",
       "    </tr>\n",
       "    <tr>\n",
       "      <th>234</th>\n",
       "      <td>2010</td>\n",
       "      <td>Finland</td>\n",
       "      <td>Europe</td>\n",
       "      <td>11.530840</td>\n",
       "    </tr>\n",
       "  </tbody>\n",
       "</table>\n",
       "</div>"
      ],
      "text/plain": [
       "     Year        Country Continent   Emission\n",
       "434  2010     Luxembourg    Europe  21.635136\n",
       "226  2010        Estonia    Europe  13.773197\n",
       "246  2010  Faroe Islands    Europe  12.986678\n",
       "534  2010         Norway    Europe  11.616193\n",
       "234  2010        Finland    Europe  11.530840"
      ]
     },
     "execution_count": 6,
     "metadata": {},
     "output_type": "execute_result"
    }
   ],
   "source": [
    "# 4.1\n",
    "em_df_filtered=em_df[(em_df[\"Year\"]==2010)&(em_df[\"Continent\"]==\"Europe\")&(em_df[\"Emission\"]>2)].sort_values([\"Emission\"],ascending=[False])\n",
    "em_df_filtered.head()"
   ]
  },
  {
   "cell_type": "code",
   "execution_count": 7,
   "metadata": {
    "ExecuteTime": {
     "end_time": "2024-03-26T21:26:44.486094Z",
     "start_time": "2024-03-26T21:26:44.483958Z"
    }
   },
   "outputs": [
    {
     "data": {
      "text/plain": [
       "7.488703895600001"
      ]
     },
     "execution_count": 7,
     "metadata": {},
     "output_type": "execute_result"
    }
   ],
   "source": [
    "# 4.2\n",
    "em_df_filtered[\"Emission\"].mean()"
   ]
  },
  {
   "cell_type": "markdown",
   "metadata": {},
   "source": [
    "#### 5.\n",
    "#### 5.1 (1.5 points) In em_df, create a new column, \"Emission10PMore\". The value in this column will be 10% more than the corresponding value in the orignal \"Emission\" column.\n",
    "#### 5.2 (0.5 points) Sort the result dataframe by Emission10PMore in ascending order and show the first 5 rows.\n",
    "\n",
    "<img style=\"600px;\" src=\"https://juxinglong.github.io/static/img/ML/hw_pd_5.png\">\n"
   ]
  },
  {
   "cell_type": "code",
   "execution_count": 8,
   "metadata": {
    "ExecuteTime": {
     "end_time": "2024-03-26T21:26:44.490436Z",
     "start_time": "2024-03-26T21:26:44.488146Z"
    }
   },
   "outputs": [],
   "source": [
    "# 5.1\n",
    "em_df[\"Emission10PMore\"]=em_df[\"Emission\"]*1.1"
   ]
  },
  {
   "cell_type": "code",
   "execution_count": 9,
   "metadata": {
    "ExecuteTime": {
     "end_time": "2024-03-26T21:26:44.492805Z",
     "start_time": "2024-03-26T21:26:44.490436Z"
    }
   },
   "outputs": [
    {
     "data": {
      "text/html": [
       "<div>\n",
       "<style scoped>\n",
       "    .dataframe tbody tr th:only-of-type {\n",
       "        vertical-align: middle;\n",
       "    }\n",
       "\n",
       "    .dataframe tbody tr th {\n",
       "        vertical-align: top;\n",
       "    }\n",
       "\n",
       "    .dataframe thead th {\n",
       "        text-align: right;\n",
       "    }\n",
       "</style>\n",
       "<table border=\"1\" class=\"dataframe\">\n",
       "  <thead>\n",
       "    <tr style=\"text-align: right;\">\n",
       "      <th></th>\n",
       "      <th>Year</th>\n",
       "      <th>Country</th>\n",
       "      <th>Continent</th>\n",
       "      <th>Emission</th>\n",
       "      <th>Emission10PMore</th>\n",
       "    </tr>\n",
       "  </thead>\n",
       "  <tbody>\n",
       "    <tr>\n",
       "      <th>50</th>\n",
       "      <td>2010</td>\n",
       "      <td>Burundi</td>\n",
       "      <td>Africa</td>\n",
       "      <td>0.020542</td>\n",
       "      <td>0.022596</td>\n",
       "    </tr>\n",
       "    <tr>\n",
       "      <th>49</th>\n",
       "      <td>2009</td>\n",
       "      <td>Burundi</td>\n",
       "      <td>Africa</td>\n",
       "      <td>0.020868</td>\n",
       "      <td>0.022954</td>\n",
       "    </tr>\n",
       "    <tr>\n",
       "      <th>51</th>\n",
       "      <td>2011</td>\n",
       "      <td>Burundi</td>\n",
       "      <td>Africa</td>\n",
       "      <td>0.021350</td>\n",
       "      <td>0.023485</td>\n",
       "    </tr>\n",
       "    <tr>\n",
       "      <th>48</th>\n",
       "      <td>2008</td>\n",
       "      <td>Burundi</td>\n",
       "      <td>Africa</td>\n",
       "      <td>0.021615</td>\n",
       "      <td>0.023777</td>\n",
       "    </tr>\n",
       "    <tr>\n",
       "      <th>681</th>\n",
       "      <td>2009</td>\n",
       "      <td>Chad</td>\n",
       "      <td>Africa</td>\n",
       "      <td>0.042689</td>\n",
       "      <td>0.046958</td>\n",
       "    </tr>\n",
       "  </tbody>\n",
       "</table>\n",
       "</div>"
      ],
      "text/plain": [
       "     Year  Country Continent  Emission  Emission10PMore\n",
       "50   2010  Burundi    Africa  0.020542         0.022596\n",
       "49   2009  Burundi    Africa  0.020868         0.022954\n",
       "51   2011  Burundi    Africa  0.021350         0.023485\n",
       "48   2008  Burundi    Africa  0.021615         0.023777\n",
       "681  2009     Chad    Africa  0.042689         0.046958"
      ]
     },
     "execution_count": 9,
     "metadata": {},
     "output_type": "execute_result"
    }
   ],
   "source": [
    "# 5.2\n",
    "em_df.sort_values([\"Emission10PMore\"],ascending=[True]).head()"
   ]
  }
 ],
 "metadata": {
  "kernelspec": {
   "display_name": "Python 3 (ipykernel)",
   "language": "python",
   "name": "python3"
  },
  "language_info": {
   "codemirror_mode": {
    "name": "ipython",
    "version": 3
   },
   "file_extension": ".py",
   "mimetype": "text/x-python",
   "name": "python",
   "nbconvert_exporter": "python",
   "pygments_lexer": "ipython3",
   "version": "3.9.12"
  }
 },
 "nbformat": 4,
 "nbformat_minor": 1
}
