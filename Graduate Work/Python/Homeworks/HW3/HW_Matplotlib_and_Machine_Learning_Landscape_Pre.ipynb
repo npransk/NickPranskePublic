{
 "cells": [
  {
   "cell_type": "markdown",
   "metadata": {
    "collapsed": false,
    "jupyter": {
     "outputs_hidden": false
    }
   },
   "source": [
    "# Homework\n",
    "### Matplotlib and Machine Learning Landscape"
   ]
  },
  {
   "cell_type": "markdown",
   "metadata": {
    "collapsed": false,
    "jupyter": {
     "outputs_hidden": false
    }
   },
   "source": [
    "## **Put your name and student ID here**\n",
    "## Nick Pranske, 113500528"
   ]
  },
  {
   "cell_type": "markdown",
   "metadata": {
    "collapsed": false,
    "jupyter": {
     "outputs_hidden": false
    }
   },
   "source": [
    "Use what you learned in Matplotlib (data visualization) and Machine Learning Landscape (the two regression methods, linear and knn) to analyze the dataset from \"population_vs_day.csv\"\n",
    "\n",
    "In this file, the population (in millions) of one species and the date are recorded.\n",
    "\n",
    "date: the date\n",
    "\n",
    "day: the index of the day, we assume 20190101 is the first day and 20190102 is the second day.\n",
    "\n",
    "population: the population (in millions) of one species"
   ]
  },
  {
   "cell_type": "code",
   "execution_count": null,
   "metadata": {},
   "outputs": [],
   "source": [
    "# import the necessary libraries\n",
    "\n",
    "import numpy as np\n",
    "import pandas as pd\n",
    "import matplotlib.pyplot as plt\n",
    "from sklearn.linear_model import LinearRegression\n",
    "from sklearn.neighbors import KNeighborsRegressor"
   ]
  },
  {
   "cell_type": "markdown",
   "metadata": {
    "collapsed": false,
    "jupyter": {
     "outputs_hidden": false
    }
   },
   "source": [
    "### 1. (1 point) Use pandas to load the dataset as a dataframe\n",
    "<img style=\"600px;\" src=\"https://juxinglong.github.io/static/img/ML/hw4_1.png\">"
   ]
  },
  {
   "cell_type": "code",
   "execution_count": null,
   "metadata": {
    "ExecuteTime": {
     "end_time": "2024-04-01T00:53:29.829737Z",
     "start_time": "2024-04-01T00:53:29.827904Z"
    },
    "collapsed": false,
    "jupyter": {
     "outputs_hidden": false
    }
   },
   "outputs": [],
   "source": [
    "df = pd.read_csv(\"population_vs_day.csv\")\n",
    "print(df.value_counts)"
   ]
  },
  {
   "cell_type": "markdown",
   "metadata": {
    "collapsed": false,
    "jupyter": {
     "outputs_hidden": false
    }
   },
   "source": [
    "### 2. (2 points) Use matplotlib (scatter()) to visualize the dataset.\n",
    "You should get a similar figure like this one.\n",
    "\n",
    "<img style=\"600px;\" src=\"https://juxinglong.github.io/static/img/ML/f1.jpg\">"
   ]
  },
  {
   "cell_type": "code",
   "execution_count": null,
   "metadata": {
    "ExecuteTime": {
     "end_time": "2024-04-01T00:53:29.832350Z",
     "start_time": "2024-04-01T00:53:29.830739Z"
    },
    "collapsed": false,
    "jupyter": {
     "outputs_hidden": false
    }
   },
   "outputs": [],
   "source": [
    "%matplotlib inline\n",
    "plt.figure()\n",
    "ax1 = plt.subplot(1,1,1)\n",
    "sc1 = plt.scatter(df[\"day\"],df[\"population\"],marker=\"^\",label=\"Original\",s=1)\n",
    "plt.xlabel(\"Day\")\n",
    "plt.ylabel(\"Population\")\n",
    "plt.title(\"Population vs Day\")\n",
    "plt.legend()\n",
    "plt.show()"
   ]
  },
  {
   "cell_type": "markdown",
   "metadata": {
    "collapsed": false,
    "jupyter": {
     "outputs_hidden": false
    }
   },
   "source": [
    "### 3. (1 point) Find the min population and the max population.\n",
    "min: 0\n",
    "max: 151667.5013"
   ]
  },
  {
   "cell_type": "code",
   "execution_count": null,
   "metadata": {
    "ExecuteTime": {
     "end_time": "2024-04-01T00:53:29.835331Z",
     "start_time": "2024-04-01T00:53:29.832350Z"
    },
    "collapsed": false,
    "jupyter": {
     "outputs_hidden": false
    }
   },
   "outputs": [],
   "source": [
    "min=df[\"population\"].min()\n",
    "max=df[\"population\"].max()\n",
    "print(f\"min: {min} max: {max}\")"
   ]
  },
  {
   "cell_type": "markdown",
   "metadata": {
    "collapsed": false,
    "jupyter": {
     "outputs_hidden": false
    }
   },
   "source": [
    "### 4. (1 point) Use a few sentences to describe what you find from the dataset. (the max, the min, the population trend,...)"
   ]
  },
  {
   "cell_type": "markdown",
   "metadata": {
    "collapsed": false,
    "jupyter": {
     "outputs_hidden": false
    }
   },
   "source": [
    "The minimum population is seen at the beginning and end of the days, which makes sense. The maximum is seen at day 519 ( discovered by: df[df['population']==max][day]=519). This shows that the Gaussian distribution seen visually in the graph is also represented in the data itself. As the days go on, the population rapidly increases around day 200 until its peak at 519, then rapidly decreases in the following 400 days."
   ]
  },
  {
   "cell_type": "markdown",
   "metadata": {
    "collapsed": false,
    "jupyter": {
     "outputs_hidden": false
    }
   },
   "source": [
    "### 5. (1 point) Get the training features X (the day column from the dataset)"
   ]
  },
  {
   "cell_type": "code",
   "execution_count": null,
   "metadata": {
    "ExecuteTime": {
     "end_time": "2024-04-01T00:53:29.838861Z",
     "start_time": "2024-04-01T00:53:29.835331Z"
    },
    "collapsed": false,
    "jupyter": {
     "outputs_hidden": false
    }
   },
   "outputs": [],
   "source": [
    "X = df[['day']]"
   ]
  },
  {
   "cell_type": "markdown",
   "metadata": {
    "collapsed": false,
    "jupyter": {
     "outputs_hidden": false
    }
   },
   "source": [
    "### 6. (1 point) Get the training target y (the population column from the dataset)"
   ]
  },
  {
   "cell_type": "code",
   "execution_count": null,
   "metadata": {
    "ExecuteTime": {
     "end_time": "2024-04-01T00:53:29.841993Z",
     "start_time": "2024-04-01T00:53:29.839862Z"
    },
    "collapsed": false,
    "jupyter": {
     "outputs_hidden": false
    }
   },
   "outputs": [],
   "source": [
    "y = df['population']"
   ]
  },
  {
   "cell_type": "markdown",
   "metadata": {
    "collapsed": false,
    "jupyter": {
     "outputs_hidden": false
    }
   },
   "source": [
    "### 7. (2 points) Use sklearn.linear_model.LinearRegression to train a linear model\n"
   ]
  },
  {
   "cell_type": "code",
   "execution_count": null,
   "metadata": {
    "ExecuteTime": {
     "end_time": "2024-04-01T00:53:29.844902Z",
     "start_time": "2024-04-01T00:53:29.841993Z"
    },
    "collapsed": false,
    "jupyter": {
     "outputs_hidden": false
    }
   },
   "outputs": [],
   "source": [
    "linear_model=LinearRegression()\n",
    "linear_model.fit(X,y)"
   ]
  },
  {
   "cell_type": "markdown",
   "metadata": {
    "collapsed": false,
    "jupyter": {
     "outputs_hidden": false
    }
   },
   "source": [
    "### 8. (2 points) Use sklearn.neighbors.KNeighborsRegressor to train a KNN model"
   ]
  },
  {
   "cell_type": "code",
   "execution_count": null,
   "metadata": {
    "ExecuteTime": {
     "end_time": "2024-04-01T00:53:29.847260Z",
     "start_time": "2024-04-01T00:53:29.844902Z"
    },
    "collapsed": false,
    "jupyter": {
     "outputs_hidden": false
    }
   },
   "outputs": [],
   "source": [
    "knn_model=KNeighborsRegressor()\n",
    "knn_model.fit(X,y)"
   ]
  },
  {
   "cell_type": "markdown",
   "metadata": {
    "collapsed": false,
    "jupyter": {
     "outputs_hidden": false
    }
   },
   "source": [
    "### 9. (1 point) Use numpy.arange() to generate 11 numbers [0,100,200,...,1000]. Reshape it to the shape (11,1). Name it x_test.\n",
    "You should get result like this.\n",
    "\n",
    "<img style=\"600px;\" src=\"https://juxinglong.github.io/static/img/ML/hw4_2.png\">\n"
   ]
  },
  {
   "cell_type": "code",
   "execution_count": null,
   "metadata": {
    "ExecuteTime": {
     "end_time": "2024-04-01T00:53:29.849483Z",
     "start_time": "2024-04-01T00:53:29.847260Z"
    },
    "collapsed": false,
    "jupyter": {
     "outputs_hidden": false
    }
   },
   "outputs": [],
   "source": [
    "x_test=np.arange(0,1001,100).reshape(11,1)"
   ]
  },
  {
   "cell_type": "markdown",
   "metadata": {
    "collapsed": false,
    "jupyter": {
     "outputs_hidden": false
    }
   },
   "source": [
    "### 10. (1 point) Use the linear model to predict the population for the days x_test. Use predict() function.\n",
    "You should get similar result like this.\n",
    "<img style=\"600px;\" src=\"https://juxinglong.github.io/static/img/ML/hw4_3.png\">"
   ]
  },
  {
   "cell_type": "code",
   "execution_count": null,
   "metadata": {
    "ExecuteTime": {
     "end_time": "2024-04-01T00:53:29.852458Z",
     "start_time": "2024-04-01T00:53:29.849483Z"
    },
    "collapsed": false,
    "jupyter": {
     "outputs_hidden": false
    }
   },
   "outputs": [],
   "source": [
    "linear_model.predict(x_test)"
   ]
  },
  {
   "cell_type": "markdown",
   "metadata": {
    "collapsed": false,
    "jupyter": {
     "outputs_hidden": false
    }
   },
   "source": [
    "### 11. (1 point) Use the KNN model to predict the population for the days x_test. Use predict() function.\n",
    "You should get similar result like this.\n",
    "\n",
    "<img style=\"600px;\" src=\"https://juxinglong.github.io/static/img/ML/hw4_4.png\">"
   ]
  },
  {
   "cell_type": "code",
   "execution_count": null,
   "metadata": {
    "ExecuteTime": {
     "end_time": "2024-04-01T00:53:29.857417Z",
     "start_time": "2024-04-01T00:53:29.854894Z"
    },
    "collapsed": false,
    "jupyter": {
     "outputs_hidden": false
    }
   },
   "outputs": [],
   "source": [
    "knn_model.predict(x_test)"
   ]
  },
  {
   "cell_type": "markdown",
   "metadata": {
    "collapsed": false,
    "jupyter": {
     "outputs_hidden": false
    }
   },
   "source": [
    "### 12. (4 points) Visualize the result on the figure. scatter().\n",
    "You should get similar result like this.\n",
    "\n",
    "<img style=\"600px;\" src=\"https://juxinglong.github.io/static/img/ML/prediction.png\">"
   ]
  },
  {
   "cell_type": "code",
   "execution_count": null,
   "metadata": {
    "ExecuteTime": {
     "end_time": "2024-04-01T00:53:29.861847Z",
     "start_time": "2024-04-01T00:53:29.859576Z"
    },
    "collapsed": false,
    "jupyter": {
     "outputs_hidden": false
    }
   },
   "outputs": [],
   "source": [
    "%matplotlib inline\n",
    "plt.figure()\n",
    "ax1 = plt.subplot(1,1,1)\n",
    "sc1 = plt.scatter(df[\"day\"],df[\"population\"],marker=\"^\",label=\"Original\",s=1)\n",
    "sc2 = plt.scatter(x_test,linear_model.predict(x_test),marker=\"o\",c=\"blue\",s=40,label=\"Linear prediction\")\n",
    "sc3 = plt.scatter(x_test,knn_model.predict(x_test),marker=\"s\",c=\"red\",s=40,label=\"KNN prediction\")\n",
    "plt.xlabel(\"Day\")\n",
    "plt.ylabel(\"Population\")\n",
    "plt.title(\"Population vs Day\")\n",
    "plt.legend()\n",
    "plt.show()"
   ]
  },
  {
   "cell_type": "markdown",
   "metadata": {
    "collapsed": false,
    "jupyter": {
     "outputs_hidden": false
    }
   },
   "source": [
    "### 13. (1 point) Make comments on the results."
   ]
  },
  {
   "cell_type": "markdown",
   "metadata": {
    "ExecuteTime": {
     "end_time": "2024-04-01T00:53:29.864743Z",
     "start_time": "2024-04-01T00:53:29.862850Z"
    },
    "collapsed": false,
    "jupyter": {
     "outputs_hidden": false
    }
   },
   "source": [
    "In this case, a linear regression model is not accurate to the actual results because of the shape of the graph. Because there is not a linear trend, the model is wrong. The KNN model, however, works very well in this scenario because it finds the next point based on the data and the nearest neighbor on a cartesian plane."
   ]
  },
  {
   "cell_type": "markdown",
   "metadata": {
    "collapsed": false,
    "jupyter": {
     "outputs_hidden": false
    }
   },
   "source": [
    "### 14. (1 point) Can think of some ways to improve the linear model."
   ]
  },
  {
   "cell_type": "markdown",
   "metadata": {
    "ExecuteTime": {
     "end_time": "2024-04-01T00:53:29.866938Z",
     "start_time": "2024-04-01T00:53:29.864743Z"
    },
    "collapsed": false,
    "jupyter": {
     "outputs_hidden": false
    }
   },
   "source": [
    "By fitting the data to a Gaussian (Normal) model instead of a linear model, it will better be able to predict the data. The only way to \"improve\" the linear model is actually just to get rid of it and use a different model."
   ]
  }
 ],
 "metadata": {
  "kernelspec": {
   "display_name": "Python 3 (ipykernel)",
   "language": "python",
   "name": "python3"
  },
  "language_info": {
   "codemirror_mode": {
    "name": "ipython",
    "version": 3
   },
   "file_extension": ".py",
   "mimetype": "text/x-python",
   "name": "python",
   "nbconvert_exporter": "python",
   "pygments_lexer": "ipython3",
   "version": "3.11.7"
  }
 },
 "nbformat": 4,
 "nbformat_minor": 4
}
